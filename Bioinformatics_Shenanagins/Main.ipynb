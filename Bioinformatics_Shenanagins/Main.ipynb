{
 "cells": [
  {
   "cell_type": "code",
   "execution_count": 1,
   "metadata": {},
   "outputs": [],
   "source": [
    "from random import randrange\n",
    "from Bio import pairwise2\n",
    "from LZCompression import *\n",
    "from Bio.pairwise2 import format_alignment\n",
    "def randomDNA(n):\n",
    "    dic = {0:\"A\", 1:\"T\", 2:\"C\", 3:\"G\"}\n",
    "    oupt = \"\"\n",
    "    for i in range(n):\n",
    "        oupt += dic[randrange(0,4)]\n",
    "    return(oupt)"
   ]
  },
  {
   "cell_type": "code",
   "execution_count": 2,
   "metadata": {},
   "outputs": [
    {
     "name": "stdout",
     "output_type": "stream",
     "text": [
      "TTTGC--CAATG-CGGTA-AT-CT-ATA--G-----CT-C-CA---GGCGATT-GA--AGG-GTCCT-G-GC-TAT-GG---TAACGCCTTATTGCTAAGC-ACATCCGATGA-ATCCGTCCAG-TGGGT--TC---\n",
      "   |   |  || ||||| || |  ||   |     || | ||   ||||  | ||  |   || || | |  | | ||   |||  |||||  ||    | |||    |  | |   | |||  |  |   ||   \n",
      "---G-GTC--TGGCGGTATATAC-CAT-CTGAAAATCTTCTCACAAGGCG--TCGATCA--TGT-CTAGTG-GT-TAGGGGCTAA--CCTTA--GC----CGACA----A--AGA---G-CCA-CT--G-ACTCGTA\n",
      "  Score=126\n",
      "\n"
     ]
    }
   ],
   "source": [
    "print(format_alignment(*pairwise2.align.globalmx(randomDNA(100),randomDNA(100),2,-1)[0]))"
   ]
  },
  {
   "cell_type": "code",
   "execution_count": 26,
   "metadata": {},
   "outputs": [
    {
     "name": "stdout",
     "output_type": "stream",
     "text": [
      "0.7665 1286.0\n"
     ]
    }
   ],
   "source": [
    "from traitlets import All\n",
    "\n",
    "\n",
    "s1,s2 = randomDNA(1000),randomDNA(1000)\n",
    "Compresion = Mutual_Compression_Crossed(s1,s2)\n",
    "Allignment_score = pairwise2.align.globalmx(s1,s2,2,-1)[0].score\n",
    "print(Compresion, Allignment_score)"
   ]
  }
 ],
 "metadata": {
  "kernelspec": {
   "display_name": "Python 3 (ipykernel)",
   "language": "python",
   "name": "python3"
  },
  "language_info": {
   "codemirror_mode": {
    "name": "ipython",
    "version": 3
   },
   "file_extension": ".py",
   "mimetype": "text/x-python",
   "name": "python",
   "nbconvert_exporter": "python",
   "pygments_lexer": "ipython3",
   "version": "3.8.10 (default, Nov 14 2022, 12:59:47) \n[GCC 9.4.0]"
  },
  "vscode": {
   "interpreter": {
    "hash": "916dbcbb3f70747c44a77c7bcd40155683ae19c65e1c03b4aa3499c5328201f1"
   }
  }
 },
 "nbformat": 4,
 "nbformat_minor": 2
}
